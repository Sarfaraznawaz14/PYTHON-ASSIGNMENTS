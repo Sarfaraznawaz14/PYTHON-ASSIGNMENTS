{
 "cells": [
  {
   "cell_type": "raw",
   "id": "d25db457",
   "metadata": {},
   "source": [
    "Q1. In the below elements which of them are values or an expression? eg:- values can be\n",
    "integer or string and expressions will be mathematical operators.\n",
    "*\n",
    "'hello'\n",
    "-87.8\n",
    "-\n",
    "/\n",
    "+\n",
    "6\n",
    "Ans. The Values are : \"hello\", -87.8 , 6\n",
    "     The expressions are : * , - , / , +"
   ]
  },
  {
   "cell_type": "raw",
   "id": "faacefb1",
   "metadata": {},
   "source": [
    "Q2. What is the difference between string and variable?\n",
    "Ans. variable is a kind of entity which helps us to hold any kind of data into our main memory ie RAM.\n",
    "     Ex-01 : a = 10 (here a is variable and holding an integer data)\n",
    "     Ex-02 : b = 'sudh' ( here b is a variable which is holding a string data)\n",
    "        In this way any kind of data can be stored in a variable like movie, csv file, image etc.\n",
    "        \n",
    "        Python will be able to understand type of data a variable is storing. No need to define it.\n",
    "       \n",
    "     String : A series of characters enclosed in a single quote or double quote is known as string.\n",
    "            Ex-01 : a = 'sarfaraz'\n",
    "                \n",
    "            Ex-02 : a = '15'\n",
    "                    b = '20'\n",
    "                    print(a+b)\n",
    "                    This example concatenates string and gives output as '1520'                \n",
    "              "
   ]
  },
  {
   "cell_type": "raw",
   "id": "241c4fcb",
   "metadata": {},
   "source": [
    "Q3.Describe three different data types."
   ]
  },
  {
   "cell_type": "raw",
   "id": "2445b692",
   "metadata": {},
   "source": [
    "Ans. The different types of data types in python are :\n",
    "    integer, float, complex number, boolean, string, list, tuple, set, dictionary\n",
    "    \n",
    "    1. complex number : complex number is a combination of an integer or float number and an imaginary number.\n",
    "                ex. : 34 + 5j where 34 is integer number and 5j is complex number.\n",
    "                     we can find the datatype of 34 + 5j by using type keyword\n",
    "                    input : a = 34 + 5j\n",
    "                             type(a)\n",
    "                    output : complex\n",
    "    \n",
    "2. list : list is a data structure which is mutable ordered sequence of heterogeneous elements enclosed in square brackets.\n",
    "        \n",
    "                Ex. : a = ['sarfaraz', 'sudh', 2452, 34 + 5j]\n",
    "                \n",
    "3. Dictionary : dictionary is an unordered collection that contains key : value pairs seperated with commas inside \n",
    "                curly brackets.\n",
    "                Ex. : b = {key1 : 'sarfaraz', key2 : 'sudh' , key3: [2,3,4]} \n",
    "                    "
   ]
  },
  {
   "cell_type": "code",
   "execution_count": 8,
   "id": "7665622a",
   "metadata": {},
   "outputs": [],
   "source": [
    "#Example for different datatype\n",
    "a = type(4 + 5j)\n",
    "b = type([2,3,4])\n",
    "c = type({1 : 'sudh', 2: 'sarfaraz'})\n",
    "d = type(34)\n",
    "e = type(34.423)\n",
    "f = type(True)\n",
    "g = type({'sarfaraz', 34, 34.43})\n",
    "h = type((3,4,5,6))"
   ]
  },
  {
   "cell_type": "code",
   "execution_count": 9,
   "id": "638f445c",
   "metadata": {},
   "outputs": [
    {
     "data": {
      "text/plain": [
       "(complex, list, dict, int, float, bool, set, tuple)"
      ]
     },
     "execution_count": 9,
     "metadata": {},
     "output_type": "execute_result"
    }
   ],
   "source": [
    "a,b,c,d,e,f,g,h"
   ]
  },
  {
   "cell_type": "raw",
   "id": "8903aefd",
   "metadata": {},
   "source": [
    "Q4. What is an expression made up of? What do all expressions do?\n",
    "Ans.\n",
    "An expression is a combination of operators and operands that is interpreted to produce some other value.\n",
    "\n",
    "There are different types of expressions in python\n",
    "Ex. : a+b , a-b, a*b, a/b, a//b, a**b, a%b, a and b, a or b etc\n",
    "\n",
    "\n",
    "An expression will interpret a value by performing operations between 2 or more variables or functions using operators \n",
    "with the help of compiler.\n",
    "\n",
    "For Ex. : a = 10\n",
    "          b = 20\n",
    "          c = a + b ; here in this expression variable c is assigned with output off summation of variable a and b"
   ]
  },
  {
   "cell_type": "raw",
   "id": "7026de75",
   "metadata": {},
   "source": [
    "5. This assignment statements, like spam = 10. What is the difference between an\n",
    "expression and a statement?\n",
    "Ans.\n",
    "Statements represent an action or command, they are standalone and doesn't return any value.\n",
    "e.g print statements, assignment statements.\n",
    "\n",
    "Expression is a combination of variables, operations and values that yields a result value.\n",
    "Ex. a = 5*10 "
   ]
  },
  {
   "cell_type": "raw",
   "id": "513e7c50",
   "metadata": {},
   "source": [
    "Q6. After running the following code, what does the variable bacon contain?\n",
    "bacon = 22\n",
    "bacon + 1"
   ]
  },
  {
   "cell_type": "code",
   "execution_count": 12,
   "id": "a2f69bc5",
   "metadata": {},
   "outputs": [
    {
     "data": {
      "text/plain": [
       "23"
      ]
     },
     "execution_count": 12,
     "metadata": {},
     "output_type": "execute_result"
    }
   ],
   "source": [
    "# the output for question 6\n",
    "bacon = 22\n",
    "bacon + 1\n",
    "#After executing, the value of bacon will be 22 because bacon is globally assigned to 22"
   ]
  },
  {
   "cell_type": "code",
   "execution_count": 13,
   "id": "4af3a645",
   "metadata": {},
   "outputs": [
    {
     "data": {
      "text/plain": [
       "22"
      ]
     },
     "execution_count": 13,
     "metadata": {},
     "output_type": "execute_result"
    }
   ],
   "source": [
    "bacon"
   ]
  },
  {
   "cell_type": "raw",
   "id": "dd8a3ef0",
   "metadata": {},
   "source": [
    "7. What should the values of the following two terms be?\n",
    "'spam' + 'spamspam'\n",
    "'spam' * 3"
   ]
  },
  {
   "cell_type": "code",
   "execution_count": 14,
   "id": "7b9ea7d1",
   "metadata": {},
   "outputs": [
    {
     "data": {
      "text/plain": [
       "'spamspamspam'"
      ]
     },
     "execution_count": 14,
     "metadata": {},
     "output_type": "execute_result"
    }
   ],
   "source": [
    "#output of question 7\n",
    "\"spam\"+ 'spamspam'\n"
   ]
  },
  {
   "cell_type": "code",
   "execution_count": 15,
   "id": "ca2fc024",
   "metadata": {},
   "outputs": [
    {
     "data": {
      "text/plain": [
       "'spamspamspam'"
      ]
     },
     "execution_count": 15,
     "metadata": {},
     "output_type": "execute_result"
    }
   ],
   "source": [
    "'spam'*3"
   ]
  },
  {
   "cell_type": "code",
   "execution_count": 16,
   "id": "db550e8f",
   "metadata": {},
   "outputs": [],
   "source": [
    "# thus we can conclude that the output of both the expressions will be same"
   ]
  },
  {
   "cell_type": "raw",
   "id": "fb5d2a1d",
   "metadata": {},
   "source": [
    "8. Why is eggs a valid variable name while 100 is invalid?"
   ]
  },
  {
   "cell_type": "raw",
   "id": "ea239a1c",
   "metadata": {},
   "source": [
    "variable naming rules\n",
    "1. Variable name should start with letter(a-zA-Z) or underscore (_).\n",
    "2.In variable name, no special characters allowed other than underscore (_).\n",
    "3.Variables are case sensitive.\n",
    "4.Variable name can have numbers but not at the beginning.\n",
    "5.Variable name should not be a Python keyword.Keywords are also called as reserved words.\n",
    "\n",
    "Thus with above rules we can conclude that eggs has all the letters and is a valid variable name,\n",
    "whereas 100 is an integer and cannot be used as a variable name."
   ]
  },
  {
   "cell_type": "raw",
   "id": "4737a0e6",
   "metadata": {},
   "source": [
    "9. What three functions can be used to get the integer, floating-point number, or string\n",
    "version of a value?"
   ]
  },
  {
   "cell_type": "code",
   "execution_count": 17,
   "id": "2027011e",
   "metadata": {},
   "outputs": [],
   "source": [
    "#output for question 9\n",
    "a = int(34)\n",
    "b = float(34)\n",
    "c = str(34)\n",
    "#thus the above mentioned functions will give output as integer, floating & string version of 34"
   ]
  },
  {
   "cell_type": "code",
   "execution_count": 18,
   "id": "a976d959",
   "metadata": {},
   "outputs": [
    {
     "data": {
      "text/plain": [
       "(34, 34.0, '34')"
      ]
     },
     "execution_count": 18,
     "metadata": {},
     "output_type": "execute_result"
    }
   ],
   "source": [
    "a,b,c"
   ]
  },
  {
   "cell_type": "raw",
   "id": "354f6545",
   "metadata": {},
   "source": [
    "10. Why does this expression cause an error? How can you fix it?\n",
    "'I have eaten ' + 99 + ' burritos.'"
   ]
  },
  {
   "cell_type": "raw",
   "id": "bd922c66",
   "metadata": {},
   "source": [
    "Ans.\n",
    "In python 2 or more strings can be concatenated.\n",
    "wheras in above example there are 2 strings and an integer number. Thus we will not get the output of above expression.\n",
    "\n",
    "we can concatenate above expression by enclosing 99 within single or double quotation or we typecast 99 using str function"
   ]
  },
  {
   "cell_type": "code",
   "execution_count": 20,
   "id": "30f999d2",
   "metadata": {},
   "outputs": [
    {
     "ename": "TypeError",
     "evalue": "can only concatenate str (not \"int\") to str",
     "output_type": "error",
     "traceback": [
      "\u001b[1;31m---------------------------------------------------------------------------\u001b[0m",
      "\u001b[1;31mTypeError\u001b[0m                                 Traceback (most recent call last)",
      "\u001b[1;32m<ipython-input-20-520a1638adae>\u001b[0m in \u001b[0;36m<module>\u001b[1;34m\u001b[0m\n\u001b[1;32m----> 1\u001b[1;33m \u001b[1;34m'i have eaten'\u001b[0m\u001b[1;33m+\u001b[0m \u001b[1;36m99\u001b[0m \u001b[1;33m+\u001b[0m \u001b[1;34m'burritos'\u001b[0m\u001b[1;33m\u001b[0m\u001b[1;33m\u001b[0m\u001b[0m\n\u001b[0m",
      "\u001b[1;31mTypeError\u001b[0m: can only concatenate str (not \"int\") to str"
     ]
    }
   ],
   "source": [
    "'i have eaten'+ 99 + 'burritos'"
   ]
  },
  {
   "cell_type": "code",
   "execution_count": 22,
   "id": "3f72420e",
   "metadata": {},
   "outputs": [
    {
     "data": {
      "text/plain": [
       "'i have eaten 99 burritos'"
      ]
     },
     "execution_count": 22,
     "metadata": {},
     "output_type": "execute_result"
    }
   ],
   "source": [
    "'i have eaten '+ '99' + ' burritos'"
   ]
  },
  {
   "cell_type": "code",
   "execution_count": 23,
   "id": "2dbc6f0f",
   "metadata": {},
   "outputs": [
    {
     "data": {
      "text/plain": [
       "'i have eaten 99 burritos'"
      ]
     },
     "execution_count": 23,
     "metadata": {},
     "output_type": "execute_result"
    }
   ],
   "source": [
    "'i have eaten '+ str(99) + ' burritos'"
   ]
  },
  {
   "cell_type": "code",
   "execution_count": null,
   "id": "842fafe2",
   "metadata": {},
   "outputs": [],
   "source": []
  }
 ],
 "metadata": {
  "kernelspec": {
   "display_name": "Python 3",
   "language": "python",
   "name": "python3"
  },
  "language_info": {
   "codemirror_mode": {
    "name": "ipython",
    "version": 3
   },
   "file_extension": ".py",
   "mimetype": "text/x-python",
   "name": "python",
   "nbconvert_exporter": "python",
   "pygments_lexer": "ipython3",
   "version": "3.8.8"
  }
 },
 "nbformat": 4,
 "nbformat_minor": 5
}
